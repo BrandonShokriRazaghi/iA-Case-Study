{
 "cells": [
  {
   "cell_type": "markdown",
   "metadata": {},
   "source": [
    "### Import required libraries"
   ]
  },
  {
   "cell_type": "code",
   "execution_count": 1,
   "metadata": {},
   "outputs": [],
   "source": [
    "import numpy as np\n",
    "import pandas as pd\n",
    "import matplotlib.pyplot as plt\n",
    "%matplotlib inline"
   ]
  },
  {
   "cell_type": "markdown",
   "metadata": {},
   "source": [
    "### Import case study functions that can be reused"
   ]
  },
  {
   "cell_type": "markdown",
   "metadata": {},
   "source": [
    "NOTE: I have created a file called `case_study_functions.py` to house the functions used in this case, because it cleans up the code below and the functions can easily be reused by colleagues. The last two lines in the cell bellow allow the user to save any changes in `case_study_functions.py` without having to restart the kernel."
   ]
  },
  {
   "cell_type": "code",
   "execution_count": 2,
   "metadata": {},
   "outputs": [],
   "source": [
    "import case_study_functions as csf\n",
    "%load_ext autoreload\n",
    "%autoreload 2"
   ]
  },
  {
   "cell_type": "markdown",
   "metadata": {},
   "source": [
    "### Import Dataset"
   ]
  },
  {
   "cell_type": "markdown",
   "metadata": {},
   "source": [
    "Note: The cell below utilizes a feature in pandas called `read_csv` and allow the user to fetch data from a `.csv` file and format it into a DataFrame.\n",
    "In the case of `Dataset.csv`, it is crucial to add `sep=';'` to seperate the data by semi colon."
   ]
  },
  {
   "cell_type": "code",
   "execution_count": 3,
   "metadata": {},
   "outputs": [
    {
     "data": {
      "text/html": [
       "<div>\n",
       "<style scoped>\n",
       "    .dataframe tbody tr th:only-of-type {\n",
       "        vertical-align: middle;\n",
       "    }\n",
       "\n",
       "    .dataframe tbody tr th {\n",
       "        vertical-align: top;\n",
       "    }\n",
       "\n",
       "    .dataframe thead th {\n",
       "        text-align: right;\n",
       "    }\n",
       "</style>\n",
       "<table border=\"1\" class=\"dataframe\">\n",
       "  <thead>\n",
       "    <tr style=\"text-align: right;\">\n",
       "      <th></th>\n",
       "      <th>SP500_LEVEL</th>\n",
       "      <th>SP500_NTM_EPS</th>\n",
       "      <th>SP500_DIV_YIELD</th>\n",
       "      <th>SPTSX_LEVEL</th>\n",
       "      <th>SPTSX_NTM_EPS</th>\n",
       "      <th>SPTSX_DIV_YIELD</th>\n",
       "      <th>MSCI_EAFE_LEVEL</th>\n",
       "      <th>MSCI_EAFE_NTM_EPS</th>\n",
       "      <th>MSCI_EAFE_DIV_YIELD</th>\n",
       "      <th>FTSE_TMX_UNIV_BOND_IDX_LEVEL</th>\n",
       "      <th>...</th>\n",
       "      <th>US_10Y_RATE</th>\n",
       "      <th>US_30Y_RATE</th>\n",
       "      <th>GERMANY_90D_RATE</th>\n",
       "      <th>GERMANY_2Y_RATE</th>\n",
       "      <th>GERMANY_10Y_RATE</th>\n",
       "      <th>GERMANY_30Y_RATE</th>\n",
       "      <th>US_MANUFACTURING_PMI</th>\n",
       "      <th>EZ_MANUFACTURING_PMI</th>\n",
       "      <th>GLOBAL_MANUFACTURING_PMI</th>\n",
       "      <th>EMERGING_MANUFACTURING_PMI</th>\n",
       "    </tr>\n",
       "    <tr>\n",
       "      <th>Date</th>\n",
       "      <th></th>\n",
       "      <th></th>\n",
       "      <th></th>\n",
       "      <th></th>\n",
       "      <th></th>\n",
       "      <th></th>\n",
       "      <th></th>\n",
       "      <th></th>\n",
       "      <th></th>\n",
       "      <th></th>\n",
       "      <th></th>\n",
       "      <th></th>\n",
       "      <th></th>\n",
       "      <th></th>\n",
       "      <th></th>\n",
       "      <th></th>\n",
       "      <th></th>\n",
       "      <th></th>\n",
       "      <th></th>\n",
       "      <th></th>\n",
       "      <th></th>\n",
       "    </tr>\n",
       "  </thead>\n",
       "  <tbody>\n",
       "    <tr>\n",
       "      <th>2020-08-31</th>\n",
       "      <td>3500.31</td>\n",
       "      <td>130.64</td>\n",
       "      <td>1.67</td>\n",
       "      <td>16514.44</td>\n",
       "      <td>681.76</td>\n",
       "      <td>3.20</td>\n",
       "      <td>1909.99</td>\n",
       "      <td>89.32</td>\n",
       "      <td>2.77</td>\n",
       "      <td>1209.759</td>\n",
       "      <td>...</td>\n",
       "      <td>0.7048</td>\n",
       "      <td>1.4747</td>\n",
       "      <td>-0.563</td>\n",
       "      <td>-0.652</td>\n",
       "      <td>-0.397</td>\n",
       "      <td>0.062</td>\n",
       "      <td>56.0</td>\n",
       "      <td>51.7</td>\n",
       "      <td>51.8</td>\n",
       "      <td>52.5</td>\n",
       "    </tr>\n",
       "    <tr>\n",
       "      <th>2020-07-31</th>\n",
       "      <td>3271.12</td>\n",
       "      <td>128.92</td>\n",
       "      <td>1.79</td>\n",
       "      <td>16169.21</td>\n",
       "      <td>658.41</td>\n",
       "      <td>3.27</td>\n",
       "      <td>1820.21</td>\n",
       "      <td>90.36</td>\n",
       "      <td>2.92</td>\n",
       "      <td>1223.592</td>\n",
       "      <td>...</td>\n",
       "      <td>0.5282</td>\n",
       "      <td>1.1925</td>\n",
       "      <td>-0.559</td>\n",
       "      <td>-0.713</td>\n",
       "      <td>-0.524</td>\n",
       "      <td>-0.101</td>\n",
       "      <td>54.2</td>\n",
       "      <td>51.8</td>\n",
       "      <td>50.6</td>\n",
       "      <td>51.4</td>\n",
       "    </tr>\n",
       "    <tr>\n",
       "      <th>2020-06-30</th>\n",
       "      <td>3100.29</td>\n",
       "      <td>124.70</td>\n",
       "      <td>1.90</td>\n",
       "      <td>15515.22</td>\n",
       "      <td>629.57</td>\n",
       "      <td>3.42</td>\n",
       "      <td>1780.58</td>\n",
       "      <td>90.22</td>\n",
       "      <td>2.95</td>\n",
       "      <td>1208.266</td>\n",
       "      <td>...</td>\n",
       "      <td>0.6561</td>\n",
       "      <td>1.4107</td>\n",
       "      <td>-0.544</td>\n",
       "      <td>-0.687</td>\n",
       "      <td>-0.454</td>\n",
       "      <td>0.005</td>\n",
       "      <td>52.6</td>\n",
       "      <td>47.4</td>\n",
       "      <td>47.9</td>\n",
       "      <td>49.6</td>\n",
       "    </tr>\n",
       "    <tr>\n",
       "      <th>2020-05-31</th>\n",
       "      <td>3044.31</td>\n",
       "      <td>125.22</td>\n",
       "      <td>1.94</td>\n",
       "      <td>15192.83</td>\n",
       "      <td>607.36</td>\n",
       "      <td>3.51</td>\n",
       "      <td>1725.09</td>\n",
       "      <td>93.79</td>\n",
       "      <td>3.09</td>\n",
       "      <td>1188.173</td>\n",
       "      <td>...</td>\n",
       "      <td>0.6526</td>\n",
       "      <td>1.4064</td>\n",
       "      <td>-0.521</td>\n",
       "      <td>-0.659</td>\n",
       "      <td>-0.447</td>\n",
       "      <td>0.003</td>\n",
       "      <td>43.1</td>\n",
       "      <td>39.4</td>\n",
       "      <td>42.4</td>\n",
       "      <td>45.4</td>\n",
       "    </tr>\n",
       "    <tr>\n",
       "      <th>2020-04-30</th>\n",
       "      <td>2912.43</td>\n",
       "      <td>129.27</td>\n",
       "      <td>2.05</td>\n",
       "      <td>14780.74</td>\n",
       "      <td>748.02</td>\n",
       "      <td>3.67</td>\n",
       "      <td>1657.69</td>\n",
       "      <td>99.48</td>\n",
       "      <td>3.39</td>\n",
       "      <td>1184.466</td>\n",
       "      <td>...</td>\n",
       "      <td>0.6393</td>\n",
       "      <td>1.2848</td>\n",
       "      <td>-0.568</td>\n",
       "      <td>-0.760</td>\n",
       "      <td>-0.586</td>\n",
       "      <td>-0.177</td>\n",
       "      <td>41.5</td>\n",
       "      <td>33.4</td>\n",
       "      <td>39.6</td>\n",
       "      <td>42.7</td>\n",
       "    </tr>\n",
       "  </tbody>\n",
       "</table>\n",
       "<p>5 rows × 27 columns</p>\n",
       "</div>"
      ],
      "text/plain": [
       "            SP500_LEVEL  SP500_NTM_EPS  SP500_DIV_YIELD  SPTSX_LEVEL  \\\n",
       "Date                                                                   \n",
       "2020-08-31      3500.31         130.64             1.67     16514.44   \n",
       "2020-07-31      3271.12         128.92             1.79     16169.21   \n",
       "2020-06-30      3100.29         124.70             1.90     15515.22   \n",
       "2020-05-31      3044.31         125.22             1.94     15192.83   \n",
       "2020-04-30      2912.43         129.27             2.05     14780.74   \n",
       "\n",
       "            SPTSX_NTM_EPS  SPTSX_DIV_YIELD  MSCI_EAFE_LEVEL  \\\n",
       "Date                                                          \n",
       "2020-08-31         681.76             3.20          1909.99   \n",
       "2020-07-31         658.41             3.27          1820.21   \n",
       "2020-06-30         629.57             3.42          1780.58   \n",
       "2020-05-31         607.36             3.51          1725.09   \n",
       "2020-04-30         748.02             3.67          1657.69   \n",
       "\n",
       "            MSCI_EAFE_NTM_EPS  MSCI_EAFE_DIV_YIELD  \\\n",
       "Date                                                 \n",
       "2020-08-31              89.32                 2.77   \n",
       "2020-07-31              90.36                 2.92   \n",
       "2020-06-30              90.22                 2.95   \n",
       "2020-05-31              93.79                 3.09   \n",
       "2020-04-30              99.48                 3.39   \n",
       "\n",
       "            FTSE_TMX_UNIV_BOND_IDX_LEVEL  ...  US_10Y_RATE  US_30Y_RATE  \\\n",
       "Date                                      ...                             \n",
       "2020-08-31                      1209.759  ...       0.7048       1.4747   \n",
       "2020-07-31                      1223.592  ...       0.5282       1.1925   \n",
       "2020-06-30                      1208.266  ...       0.6561       1.4107   \n",
       "2020-05-31                      1188.173  ...       0.6526       1.4064   \n",
       "2020-04-30                      1184.466  ...       0.6393       1.2848   \n",
       "\n",
       "            GERMANY_90D_RATE  GERMANY_2Y_RATE  GERMANY_10Y_RATE  \\\n",
       "Date                                                              \n",
       "2020-08-31            -0.563           -0.652            -0.397   \n",
       "2020-07-31            -0.559           -0.713            -0.524   \n",
       "2020-06-30            -0.544           -0.687            -0.454   \n",
       "2020-05-31            -0.521           -0.659            -0.447   \n",
       "2020-04-30            -0.568           -0.760            -0.586   \n",
       "\n",
       "            GERMANY_30Y_RATE  US_MANUFACTURING_PMI  EZ_MANUFACTURING_PMI  \\\n",
       "Date                                                                       \n",
       "2020-08-31             0.062                  56.0                  51.7   \n",
       "2020-07-31            -0.101                  54.2                  51.8   \n",
       "2020-06-30             0.005                  52.6                  47.4   \n",
       "2020-05-31             0.003                  43.1                  39.4   \n",
       "2020-04-30            -0.177                  41.5                  33.4   \n",
       "\n",
       "            GLOBAL_MANUFACTURING_PMI  EMERGING_MANUFACTURING_PMI  \n",
       "Date                                                              \n",
       "2020-08-31                      51.8                        52.5  \n",
       "2020-07-31                      50.6                        51.4  \n",
       "2020-06-30                      47.9                        49.6  \n",
       "2020-05-31                      42.4                        45.4  \n",
       "2020-04-30                      39.6                        42.7  \n",
       "\n",
       "[5 rows x 27 columns]"
      ]
     },
     "execution_count": 3,
     "metadata": {},
     "output_type": "execute_result"
    }
   ],
   "source": [
    "data = pd.read_csv(r'C:\\Users\\braza\\Case Study\\Dataset.csv', sep=';', index_col='Date')\n",
    "data.head()"
   ]
  },
  {
   "cell_type": "markdown",
   "metadata": {},
   "source": [
    "### Reverse rows"
   ]
  },
  {
   "cell_type": "markdown",
   "metadata": {},
   "source": [
    "NOTE: The cell below reverses the order of the DataFrame to make additional steps easier."
   ]
  },
  {
   "cell_type": "code",
   "execution_count": 4,
   "metadata": {},
   "outputs": [
    {
     "data": {
      "text/html": [
       "<div>\n",
       "<style scoped>\n",
       "    .dataframe tbody tr th:only-of-type {\n",
       "        vertical-align: middle;\n",
       "    }\n",
       "\n",
       "    .dataframe tbody tr th {\n",
       "        vertical-align: top;\n",
       "    }\n",
       "\n",
       "    .dataframe thead th {\n",
       "        text-align: right;\n",
       "    }\n",
       "</style>\n",
       "<table border=\"1\" class=\"dataframe\">\n",
       "  <thead>\n",
       "    <tr style=\"text-align: right;\">\n",
       "      <th></th>\n",
       "      <th>SP500_LEVEL</th>\n",
       "      <th>SP500_NTM_EPS</th>\n",
       "      <th>SP500_DIV_YIELD</th>\n",
       "      <th>SPTSX_LEVEL</th>\n",
       "      <th>SPTSX_NTM_EPS</th>\n",
       "      <th>SPTSX_DIV_YIELD</th>\n",
       "      <th>MSCI_EAFE_LEVEL</th>\n",
       "      <th>MSCI_EAFE_NTM_EPS</th>\n",
       "      <th>MSCI_EAFE_DIV_YIELD</th>\n",
       "      <th>FTSE_TMX_UNIV_BOND_IDX_LEVEL</th>\n",
       "      <th>...</th>\n",
       "      <th>US_10Y_RATE</th>\n",
       "      <th>US_30Y_RATE</th>\n",
       "      <th>GERMANY_90D_RATE</th>\n",
       "      <th>GERMANY_2Y_RATE</th>\n",
       "      <th>GERMANY_10Y_RATE</th>\n",
       "      <th>GERMANY_30Y_RATE</th>\n",
       "      <th>US_MANUFACTURING_PMI</th>\n",
       "      <th>EZ_MANUFACTURING_PMI</th>\n",
       "      <th>GLOBAL_MANUFACTURING_PMI</th>\n",
       "      <th>EMERGING_MANUFACTURING_PMI</th>\n",
       "    </tr>\n",
       "    <tr>\n",
       "      <th>Date</th>\n",
       "      <th></th>\n",
       "      <th></th>\n",
       "      <th></th>\n",
       "      <th></th>\n",
       "      <th></th>\n",
       "      <th></th>\n",
       "      <th></th>\n",
       "      <th></th>\n",
       "      <th></th>\n",
       "      <th></th>\n",
       "      <th></th>\n",
       "      <th></th>\n",
       "      <th></th>\n",
       "      <th></th>\n",
       "      <th></th>\n",
       "      <th></th>\n",
       "      <th></th>\n",
       "      <th></th>\n",
       "      <th></th>\n",
       "      <th></th>\n",
       "      <th></th>\n",
       "    </tr>\n",
       "  </thead>\n",
       "  <tbody>\n",
       "    <tr>\n",
       "      <th>2006-01-31</th>\n",
       "      <td>1280.09</td>\n",
       "      <td>84.34</td>\n",
       "      <td>1.85</td>\n",
       "      <td>11945.64</td>\n",
       "      <td>759.04</td>\n",
       "      <td>1.91</td>\n",
       "      <td>1782.57</td>\n",
       "      <td>123.33</td>\n",
       "      <td>2.90</td>\n",
       "      <td>605.30</td>\n",
       "      <td>...</td>\n",
       "      <td>4.5152</td>\n",
       "      <td>4.6768</td>\n",
       "      <td>2.516</td>\n",
       "      <td>2.955</td>\n",
       "      <td>3.467</td>\n",
       "      <td>3.728</td>\n",
       "      <td>55.0</td>\n",
       "      <td>53.5</td>\n",
       "      <td>54.4</td>\n",
       "      <td>52.0</td>\n",
       "    </tr>\n",
       "    <tr>\n",
       "      <th>2006-02-28</th>\n",
       "      <td>1280.66</td>\n",
       "      <td>84.48</td>\n",
       "      <td>1.87</td>\n",
       "      <td>11688.34</td>\n",
       "      <td>763.13</td>\n",
       "      <td>2.01</td>\n",
       "      <td>1776.42</td>\n",
       "      <td>122.58</td>\n",
       "      <td>2.91</td>\n",
       "      <td>608.58</td>\n",
       "      <td>...</td>\n",
       "      <td>4.5510</td>\n",
       "      <td>4.5075</td>\n",
       "      <td>2.572</td>\n",
       "      <td>3.021</td>\n",
       "      <td>3.489</td>\n",
       "      <td>3.716</td>\n",
       "      <td>55.8</td>\n",
       "      <td>54.5</td>\n",
       "      <td>54.9</td>\n",
       "      <td>53.2</td>\n",
       "    </tr>\n",
       "    <tr>\n",
       "      <th>2006-03-31</th>\n",
       "      <td>1294.83</td>\n",
       "      <td>84.54</td>\n",
       "      <td>1.84</td>\n",
       "      <td>12110.61</td>\n",
       "      <td>769.34</td>\n",
       "      <td>2.32</td>\n",
       "      <td>1827.65</td>\n",
       "      <td>122.85</td>\n",
       "      <td>2.80</td>\n",
       "      <td>606.48</td>\n",
       "      <td>...</td>\n",
       "      <td>4.8472</td>\n",
       "      <td>4.8898</td>\n",
       "      <td>2.702</td>\n",
       "      <td>3.290</td>\n",
       "      <td>3.771</td>\n",
       "      <td>3.986</td>\n",
       "      <td>54.3</td>\n",
       "      <td>56.1</td>\n",
       "      <td>54.3</td>\n",
       "      <td>51.9</td>\n",
       "    </tr>\n",
       "    <tr>\n",
       "      <th>2006-04-30</th>\n",
       "      <td>1310.61</td>\n",
       "      <td>84.98</td>\n",
       "      <td>1.82</td>\n",
       "      <td>12204.17</td>\n",
       "      <td>763.08</td>\n",
       "      <td>2.25</td>\n",
       "      <td>1910.15</td>\n",
       "      <td>129.71</td>\n",
       "      <td>2.79</td>\n",
       "      <td>600.80</td>\n",
       "      <td>...</td>\n",
       "      <td>5.0505</td>\n",
       "      <td>5.1615</td>\n",
       "      <td>2.688</td>\n",
       "      <td>3.379</td>\n",
       "      <td>3.951</td>\n",
       "      <td>4.186</td>\n",
       "      <td>55.2</td>\n",
       "      <td>56.7</td>\n",
       "      <td>55.1</td>\n",
       "      <td>54.2</td>\n",
       "    </tr>\n",
       "    <tr>\n",
       "      <th>2006-05-31</th>\n",
       "      <td>1270.09</td>\n",
       "      <td>85.17</td>\n",
       "      <td>1.91</td>\n",
       "      <td>11744.52</td>\n",
       "      <td>770.70</td>\n",
       "      <td>2.42</td>\n",
       "      <td>1826.73</td>\n",
       "      <td>133.56</td>\n",
       "      <td>3.02</td>\n",
       "      <td>603.03</td>\n",
       "      <td>...</td>\n",
       "      <td>5.1186</td>\n",
       "      <td>5.2277</td>\n",
       "      <td>2.800</td>\n",
       "      <td>3.355</td>\n",
       "      <td>3.982</td>\n",
       "      <td>4.269</td>\n",
       "      <td>53.7</td>\n",
       "      <td>57.0</td>\n",
       "      <td>54.5</td>\n",
       "      <td>53.5</td>\n",
       "    </tr>\n",
       "  </tbody>\n",
       "</table>\n",
       "<p>5 rows × 27 columns</p>\n",
       "</div>"
      ],
      "text/plain": [
       "            SP500_LEVEL  SP500_NTM_EPS  SP500_DIV_YIELD  SPTSX_LEVEL  \\\n",
       "Date                                                                   \n",
       "2006-01-31      1280.09          84.34             1.85     11945.64   \n",
       "2006-02-28      1280.66          84.48             1.87     11688.34   \n",
       "2006-03-31      1294.83          84.54             1.84     12110.61   \n",
       "2006-04-30      1310.61          84.98             1.82     12204.17   \n",
       "2006-05-31      1270.09          85.17             1.91     11744.52   \n",
       "\n",
       "            SPTSX_NTM_EPS  SPTSX_DIV_YIELD  MSCI_EAFE_LEVEL  \\\n",
       "Date                                                          \n",
       "2006-01-31         759.04             1.91          1782.57   \n",
       "2006-02-28         763.13             2.01          1776.42   \n",
       "2006-03-31         769.34             2.32          1827.65   \n",
       "2006-04-30         763.08             2.25          1910.15   \n",
       "2006-05-31         770.70             2.42          1826.73   \n",
       "\n",
       "            MSCI_EAFE_NTM_EPS  MSCI_EAFE_DIV_YIELD  \\\n",
       "Date                                                 \n",
       "2006-01-31             123.33                 2.90   \n",
       "2006-02-28             122.58                 2.91   \n",
       "2006-03-31             122.85                 2.80   \n",
       "2006-04-30             129.71                 2.79   \n",
       "2006-05-31             133.56                 3.02   \n",
       "\n",
       "            FTSE_TMX_UNIV_BOND_IDX_LEVEL  ...  US_10Y_RATE  US_30Y_RATE  \\\n",
       "Date                                      ...                             \n",
       "2006-01-31                        605.30  ...       4.5152       4.6768   \n",
       "2006-02-28                        608.58  ...       4.5510       4.5075   \n",
       "2006-03-31                        606.48  ...       4.8472       4.8898   \n",
       "2006-04-30                        600.80  ...       5.0505       5.1615   \n",
       "2006-05-31                        603.03  ...       5.1186       5.2277   \n",
       "\n",
       "            GERMANY_90D_RATE  GERMANY_2Y_RATE  GERMANY_10Y_RATE  \\\n",
       "Date                                                              \n",
       "2006-01-31             2.516            2.955             3.467   \n",
       "2006-02-28             2.572            3.021             3.489   \n",
       "2006-03-31             2.702            3.290             3.771   \n",
       "2006-04-30             2.688            3.379             3.951   \n",
       "2006-05-31             2.800            3.355             3.982   \n",
       "\n",
       "            GERMANY_30Y_RATE  US_MANUFACTURING_PMI  EZ_MANUFACTURING_PMI  \\\n",
       "Date                                                                       \n",
       "2006-01-31             3.728                  55.0                  53.5   \n",
       "2006-02-28             3.716                  55.8                  54.5   \n",
       "2006-03-31             3.986                  54.3                  56.1   \n",
       "2006-04-30             4.186                  55.2                  56.7   \n",
       "2006-05-31             4.269                  53.7                  57.0   \n",
       "\n",
       "            GLOBAL_MANUFACTURING_PMI  EMERGING_MANUFACTURING_PMI  \n",
       "Date                                                              \n",
       "2006-01-31                      54.4                        52.0  \n",
       "2006-02-28                      54.9                        53.2  \n",
       "2006-03-31                      54.3                        51.9  \n",
       "2006-04-30                      55.1                        54.2  \n",
       "2006-05-31                      54.5                        53.5  \n",
       "\n",
       "[5 rows x 27 columns]"
      ]
     },
     "execution_count": 4,
     "metadata": {},
     "output_type": "execute_result"
    }
   ],
   "source": [
    "data1 = data.iloc[::-1]\n",
    "data1.head()"
   ]
  },
  {
   "cell_type": "markdown",
   "metadata": {},
   "source": [
    "### Separate the data by type"
   ]
  },
  {
   "cell_type": "markdown",
   "metadata": {},
   "source": [
    "NOTE: The cells below divide the DataFrame into three sections for ease of readability and analysis."
   ]
  },
  {
   "cell_type": "markdown",
   "metadata": {},
   "source": [
    "PMI Indices:"
   ]
  },
  {
   "cell_type": "code",
   "execution_count": 21,
   "metadata": {},
   "outputs": [
    {
     "data": {
      "text/html": [
       "<div>\n",
       "<style scoped>\n",
       "    .dataframe tbody tr th:only-of-type {\n",
       "        vertical-align: middle;\n",
       "    }\n",
       "\n",
       "    .dataframe tbody tr th {\n",
       "        vertical-align: top;\n",
       "    }\n",
       "\n",
       "    .dataframe thead th {\n",
       "        text-align: right;\n",
       "    }\n",
       "</style>\n",
       "<table border=\"1\" class=\"dataframe\">\n",
       "  <thead>\n",
       "    <tr style=\"text-align: right;\">\n",
       "      <th></th>\n",
       "      <th>US_MANUFACTURING_PMI</th>\n",
       "      <th>EZ_MANUFACTURING_PMI</th>\n",
       "      <th>GLOBAL_MANUFACTURING_PMI</th>\n",
       "      <th>EMERGING_MANUFACTURING_PMI</th>\n",
       "    </tr>\n",
       "    <tr>\n",
       "      <th>Date</th>\n",
       "      <th></th>\n",
       "      <th></th>\n",
       "      <th></th>\n",
       "      <th></th>\n",
       "    </tr>\n",
       "  </thead>\n",
       "  <tbody>\n",
       "    <tr>\n",
       "      <th>2020-04-30</th>\n",
       "      <td>41.5</td>\n",
       "      <td>33.4</td>\n",
       "      <td>39.6</td>\n",
       "      <td>42.7</td>\n",
       "    </tr>\n",
       "    <tr>\n",
       "      <th>2020-05-31</th>\n",
       "      <td>43.1</td>\n",
       "      <td>39.4</td>\n",
       "      <td>42.4</td>\n",
       "      <td>45.4</td>\n",
       "    </tr>\n",
       "    <tr>\n",
       "      <th>2020-06-30</th>\n",
       "      <td>52.6</td>\n",
       "      <td>47.4</td>\n",
       "      <td>47.9</td>\n",
       "      <td>49.6</td>\n",
       "    </tr>\n",
       "    <tr>\n",
       "      <th>2020-07-31</th>\n",
       "      <td>54.2</td>\n",
       "      <td>51.8</td>\n",
       "      <td>50.6</td>\n",
       "      <td>51.4</td>\n",
       "    </tr>\n",
       "    <tr>\n",
       "      <th>2020-08-31</th>\n",
       "      <td>56.0</td>\n",
       "      <td>51.7</td>\n",
       "      <td>51.8</td>\n",
       "      <td>52.5</td>\n",
       "    </tr>\n",
       "  </tbody>\n",
       "</table>\n",
       "</div>"
      ],
      "text/plain": [
       "            US_MANUFACTURING_PMI  EZ_MANUFACTURING_PMI  \\\n",
       "Date                                                     \n",
       "2020-04-30                  41.5                  33.4   \n",
       "2020-05-31                  43.1                  39.4   \n",
       "2020-06-30                  52.6                  47.4   \n",
       "2020-07-31                  54.2                  51.8   \n",
       "2020-08-31                  56.0                  51.7   \n",
       "\n",
       "            GLOBAL_MANUFACTURING_PMI  EMERGING_MANUFACTURING_PMI  \n",
       "Date                                                              \n",
       "2020-04-30                      39.6                        42.7  \n",
       "2020-05-31                      42.4                        45.4  \n",
       "2020-06-30                      47.9                        49.6  \n",
       "2020-07-31                      50.6                        51.4  \n",
       "2020-08-31                      51.8                        52.5  "
      ]
     },
     "execution_count": 21,
     "metadata": {},
     "output_type": "execute_result"
    }
   ],
   "source": [
    "pmi = data1.loc[:, 'US_MANUFACTURING_PMI':]\n",
    "pmi.tail()"
   ]
  },
  {
   "cell_type": "markdown",
   "metadata": {},
   "source": [
    "Interest Rates:"
   ]
  },
  {
   "cell_type": "code",
   "execution_count": 22,
   "metadata": {},
   "outputs": [
    {
     "data": {
      "text/html": [
       "<div>\n",
       "<style scoped>\n",
       "    .dataframe tbody tr th:only-of-type {\n",
       "        vertical-align: middle;\n",
       "    }\n",
       "\n",
       "    .dataframe tbody tr th {\n",
       "        vertical-align: top;\n",
       "    }\n",
       "\n",
       "    .dataframe thead th {\n",
       "        text-align: right;\n",
       "    }\n",
       "</style>\n",
       "<table border=\"1\" class=\"dataframe\">\n",
       "  <thead>\n",
       "    <tr style=\"text-align: right;\">\n",
       "      <th></th>\n",
       "      <th>CANADA_90D_RATE</th>\n",
       "      <th>CANADA_2Y_RATE</th>\n",
       "      <th>CANADA_10Y_RATE</th>\n",
       "      <th>CANADA_30Y_RATE</th>\n",
       "      <th>US_90D_RATE</th>\n",
       "      <th>US_2Y_RATE</th>\n",
       "      <th>US_10Y_RATE</th>\n",
       "      <th>US_30Y_RATE</th>\n",
       "      <th>GERMANY_90D_RATE</th>\n",
       "      <th>GERMANY_2Y_RATE</th>\n",
       "      <th>GERMANY_10Y_RATE</th>\n",
       "      <th>GERMANY_30Y_RATE</th>\n",
       "    </tr>\n",
       "    <tr>\n",
       "      <th>Date</th>\n",
       "      <th></th>\n",
       "      <th></th>\n",
       "      <th></th>\n",
       "      <th></th>\n",
       "      <th></th>\n",
       "      <th></th>\n",
       "      <th></th>\n",
       "      <th></th>\n",
       "      <th></th>\n",
       "      <th></th>\n",
       "      <th></th>\n",
       "      <th></th>\n",
       "    </tr>\n",
       "  </thead>\n",
       "  <tbody>\n",
       "    <tr>\n",
       "      <th>2020-04-30</th>\n",
       "      <td>0.00263</td>\n",
       "      <td>0.00312</td>\n",
       "      <td>0.00547</td>\n",
       "      <td>0.01128</td>\n",
       "      <td>0.000788</td>\n",
       "      <td>0.001956</td>\n",
       "      <td>0.006393</td>\n",
       "      <td>0.012848</td>\n",
       "      <td>-0.00568</td>\n",
       "      <td>-0.00760</td>\n",
       "      <td>-0.00586</td>\n",
       "      <td>-0.00177</td>\n",
       "    </tr>\n",
       "    <tr>\n",
       "      <th>2020-05-31</th>\n",
       "      <td>0.00192</td>\n",
       "      <td>0.00290</td>\n",
       "      <td>0.00534</td>\n",
       "      <td>0.01118</td>\n",
       "      <td>0.001246</td>\n",
       "      <td>0.001603</td>\n",
       "      <td>0.006526</td>\n",
       "      <td>0.014064</td>\n",
       "      <td>-0.00521</td>\n",
       "      <td>-0.00659</td>\n",
       "      <td>-0.00447</td>\n",
       "      <td>0.00003</td>\n",
       "    </tr>\n",
       "    <tr>\n",
       "      <th>2020-06-30</th>\n",
       "      <td>0.00209</td>\n",
       "      <td>0.00292</td>\n",
       "      <td>0.00528</td>\n",
       "      <td>0.00991</td>\n",
       "      <td>0.001293</td>\n",
       "      <td>0.001485</td>\n",
       "      <td>0.006561</td>\n",
       "      <td>0.014107</td>\n",
       "      <td>-0.00544</td>\n",
       "      <td>-0.00687</td>\n",
       "      <td>-0.00454</td>\n",
       "      <td>0.00005</td>\n",
       "    </tr>\n",
       "    <tr>\n",
       "      <th>2020-07-31</th>\n",
       "      <td>0.00170</td>\n",
       "      <td>0.00268</td>\n",
       "      <td>0.00467</td>\n",
       "      <td>0.00927</td>\n",
       "      <td>0.000837</td>\n",
       "      <td>0.001054</td>\n",
       "      <td>0.005282</td>\n",
       "      <td>0.011925</td>\n",
       "      <td>-0.00559</td>\n",
       "      <td>-0.00713</td>\n",
       "      <td>-0.00524</td>\n",
       "      <td>-0.00101</td>\n",
       "    </tr>\n",
       "    <tr>\n",
       "      <th>2020-08-31</th>\n",
       "      <td>0.00147</td>\n",
       "      <td>0.00275</td>\n",
       "      <td>0.00622</td>\n",
       "      <td>0.01164</td>\n",
       "      <td>0.000938</td>\n",
       "      <td>0.001309</td>\n",
       "      <td>0.007048</td>\n",
       "      <td>0.014747</td>\n",
       "      <td>-0.00563</td>\n",
       "      <td>-0.00652</td>\n",
       "      <td>-0.00397</td>\n",
       "      <td>0.00062</td>\n",
       "    </tr>\n",
       "  </tbody>\n",
       "</table>\n",
       "</div>"
      ],
      "text/plain": [
       "            CANADA_90D_RATE  CANADA_2Y_RATE  CANADA_10Y_RATE  CANADA_30Y_RATE  \\\n",
       "Date                                                                            \n",
       "2020-04-30          0.00263         0.00312          0.00547          0.01128   \n",
       "2020-05-31          0.00192         0.00290          0.00534          0.01118   \n",
       "2020-06-30          0.00209         0.00292          0.00528          0.00991   \n",
       "2020-07-31          0.00170         0.00268          0.00467          0.00927   \n",
       "2020-08-31          0.00147         0.00275          0.00622          0.01164   \n",
       "\n",
       "            US_90D_RATE  US_2Y_RATE  US_10Y_RATE  US_30Y_RATE  \\\n",
       "Date                                                            \n",
       "2020-04-30     0.000788    0.001956     0.006393     0.012848   \n",
       "2020-05-31     0.001246    0.001603     0.006526     0.014064   \n",
       "2020-06-30     0.001293    0.001485     0.006561     0.014107   \n",
       "2020-07-31     0.000837    0.001054     0.005282     0.011925   \n",
       "2020-08-31     0.000938    0.001309     0.007048     0.014747   \n",
       "\n",
       "            GERMANY_90D_RATE  GERMANY_2Y_RATE  GERMANY_10Y_RATE  \\\n",
       "Date                                                              \n",
       "2020-04-30          -0.00568         -0.00760          -0.00586   \n",
       "2020-05-31          -0.00521         -0.00659          -0.00447   \n",
       "2020-06-30          -0.00544         -0.00687          -0.00454   \n",
       "2020-07-31          -0.00559         -0.00713          -0.00524   \n",
       "2020-08-31          -0.00563         -0.00652          -0.00397   \n",
       "\n",
       "            GERMANY_30Y_RATE  \n",
       "Date                          \n",
       "2020-04-30          -0.00177  \n",
       "2020-05-31           0.00003  \n",
       "2020-06-30           0.00005  \n",
       "2020-07-31          -0.00101  \n",
       "2020-08-31           0.00062  "
      ]
     },
     "execution_count": 22,
     "metadata": {},
     "output_type": "execute_result"
    }
   ],
   "source": [
    "int_rates = data1.loc[:, 'CANADA_90D_RATE':'GERMANY_30Y_RATE']\n",
    "int_rates = int_rates/100\n",
    "int_rates.tail()"
   ]
  },
  {
   "cell_type": "markdown",
   "metadata": {},
   "source": [
    "Price Levels:"
   ]
  },
  {
   "cell_type": "code",
   "execution_count": 23,
   "metadata": {},
   "outputs": [
    {
     "data": {
      "text/html": [
       "<div>\n",
       "<style scoped>\n",
       "    .dataframe tbody tr th:only-of-type {\n",
       "        vertical-align: middle;\n",
       "    }\n",
       "\n",
       "    .dataframe tbody tr th {\n",
       "        vertical-align: top;\n",
       "    }\n",
       "\n",
       "    .dataframe thead th {\n",
       "        text-align: right;\n",
       "    }\n",
       "</style>\n",
       "<table border=\"1\" class=\"dataframe\">\n",
       "  <thead>\n",
       "    <tr style=\"text-align: right;\">\n",
       "      <th></th>\n",
       "      <th>SP500_LEVEL</th>\n",
       "      <th>SPTSX_LEVEL</th>\n",
       "      <th>MSCI_EAFE_LEVEL</th>\n",
       "      <th>FTSE_TMX_UNIV_BOND_IDX_LEVEL</th>\n",
       "      <th>FTSE_TMX_CORP_BOND_IDX_LEVEL</th>\n",
       "    </tr>\n",
       "    <tr>\n",
       "      <th>Date</th>\n",
       "      <th></th>\n",
       "      <th></th>\n",
       "      <th></th>\n",
       "      <th></th>\n",
       "      <th></th>\n",
       "    </tr>\n",
       "  </thead>\n",
       "  <tbody>\n",
       "    <tr>\n",
       "      <th>2020-04-30</th>\n",
       "      <td>2912.43</td>\n",
       "      <td>14780.74</td>\n",
       "      <td>1657.69</td>\n",
       "      <td>1184.466</td>\n",
       "      <td>1312.147</td>\n",
       "    </tr>\n",
       "    <tr>\n",
       "      <th>2020-05-31</th>\n",
       "      <td>3044.31</td>\n",
       "      <td>15192.83</td>\n",
       "      <td>1725.09</td>\n",
       "      <td>1188.173</td>\n",
       "      <td>1319.989</td>\n",
       "    </tr>\n",
       "    <tr>\n",
       "      <th>2020-06-30</th>\n",
       "      <td>3100.29</td>\n",
       "      <td>15515.22</td>\n",
       "      <td>1780.58</td>\n",
       "      <td>1208.266</td>\n",
       "      <td>1353.965</td>\n",
       "    </tr>\n",
       "    <tr>\n",
       "      <th>2020-07-31</th>\n",
       "      <td>3271.12</td>\n",
       "      <td>16169.21</td>\n",
       "      <td>1820.21</td>\n",
       "      <td>1223.592</td>\n",
       "      <td>1379.028</td>\n",
       "    </tr>\n",
       "    <tr>\n",
       "      <th>2020-08-31</th>\n",
       "      <td>3500.31</td>\n",
       "      <td>16514.44</td>\n",
       "      <td>1909.99</td>\n",
       "      <td>1209.759</td>\n",
       "      <td>1371.988</td>\n",
       "    </tr>\n",
       "  </tbody>\n",
       "</table>\n",
       "</div>"
      ],
      "text/plain": [
       "            SP500_LEVEL  SPTSX_LEVEL  MSCI_EAFE_LEVEL  \\\n",
       "Date                                                    \n",
       "2020-04-30      2912.43     14780.74          1657.69   \n",
       "2020-05-31      3044.31     15192.83          1725.09   \n",
       "2020-06-30      3100.29     15515.22          1780.58   \n",
       "2020-07-31      3271.12     16169.21          1820.21   \n",
       "2020-08-31      3500.31     16514.44          1909.99   \n",
       "\n",
       "            FTSE_TMX_UNIV_BOND_IDX_LEVEL  FTSE_TMX_CORP_BOND_IDX_LEVEL  \n",
       "Date                                                                    \n",
       "2020-04-30                      1184.466                      1312.147  \n",
       "2020-05-31                      1188.173                      1319.989  \n",
       "2020-06-30                      1208.266                      1353.965  \n",
       "2020-07-31                      1223.592                      1379.028  \n",
       "2020-08-31                      1209.759                      1371.988  "
      ]
     },
     "execution_count": 23,
     "metadata": {},
     "output_type": "execute_result"
    }
   ],
   "source": [
    "levels = data1.loc[:, ['SP500_LEVEL','SPTSX_LEVEL','MSCI_EAFE_LEVEL','FTSE_TMX_UNIV_BOND_IDX_LEVEL','FTSE_TMX_CORP_BOND_IDX_LEVEL']]\n",
    "levels.tail()"
   ]
  },
  {
   "cell_type": "markdown",
   "metadata": {},
   "source": [
    "### Convert levels into monthly returns and drop first date"
   ]
  },
  {
   "cell_type": "markdown",
   "metadata": {},
   "source": [
    "NOTE: The cell below takes the price levels and converts them into monthly returns by utilizing the `pct_change()` formula and drops the first date since it is 'NaN' using `dropna()`."
   ]
  },
  {
   "cell_type": "code",
   "execution_count": 8,
   "metadata": {},
   "outputs": [
    {
     "data": {
      "text/html": [
       "<div>\n",
       "<style scoped>\n",
       "    .dataframe tbody tr th:only-of-type {\n",
       "        vertical-align: middle;\n",
       "    }\n",
       "\n",
       "    .dataframe tbody tr th {\n",
       "        vertical-align: top;\n",
       "    }\n",
       "\n",
       "    .dataframe thead th {\n",
       "        text-align: right;\n",
       "    }\n",
       "</style>\n",
       "<table border=\"1\" class=\"dataframe\">\n",
       "  <thead>\n",
       "    <tr style=\"text-align: right;\">\n",
       "      <th></th>\n",
       "      <th>SP500_LEVEL</th>\n",
       "      <th>SPTSX_LEVEL</th>\n",
       "      <th>MSCI_EAFE_LEVEL</th>\n",
       "      <th>FTSE_TMX_UNIV_BOND_IDX_LEVEL</th>\n",
       "      <th>FTSE_TMX_CORP_BOND_IDX_LEVEL</th>\n",
       "    </tr>\n",
       "    <tr>\n",
       "      <th>Date</th>\n",
       "      <th></th>\n",
       "      <th></th>\n",
       "      <th></th>\n",
       "      <th></th>\n",
       "      <th></th>\n",
       "    </tr>\n",
       "  </thead>\n",
       "  <tbody>\n",
       "    <tr>\n",
       "      <th>2006-02-28</th>\n",
       "      <td>0.000445</td>\n",
       "      <td>-0.021539</td>\n",
       "      <td>-0.003450</td>\n",
       "      <td>0.005419</td>\n",
       "      <td>0.004150</td>\n",
       "    </tr>\n",
       "    <tr>\n",
       "      <th>2006-03-31</th>\n",
       "      <td>0.011065</td>\n",
       "      <td>0.036127</td>\n",
       "      <td>0.028839</td>\n",
       "      <td>-0.003451</td>\n",
       "      <td>-0.001989</td>\n",
       "    </tr>\n",
       "    <tr>\n",
       "      <th>2006-04-30</th>\n",
       "      <td>0.012187</td>\n",
       "      <td>0.007725</td>\n",
       "      <td>0.045140</td>\n",
       "      <td>-0.009366</td>\n",
       "      <td>-0.007067</td>\n",
       "    </tr>\n",
       "    <tr>\n",
       "      <th>2006-05-31</th>\n",
       "      <td>-0.030917</td>\n",
       "      <td>-0.037663</td>\n",
       "      <td>-0.043672</td>\n",
       "      <td>0.003712</td>\n",
       "      <td>0.003794</td>\n",
       "    </tr>\n",
       "    <tr>\n",
       "      <th>2006-06-30</th>\n",
       "      <td>0.000087</td>\n",
       "      <td>-0.011209</td>\n",
       "      <td>-0.002108</td>\n",
       "      <td>-0.004577</td>\n",
       "      <td>-0.004279</td>\n",
       "    </tr>\n",
       "  </tbody>\n",
       "</table>\n",
       "</div>"
      ],
      "text/plain": [
       "            SP500_LEVEL  SPTSX_LEVEL  MSCI_EAFE_LEVEL  \\\n",
       "Date                                                    \n",
       "2006-02-28     0.000445    -0.021539        -0.003450   \n",
       "2006-03-31     0.011065     0.036127         0.028839   \n",
       "2006-04-30     0.012187     0.007725         0.045140   \n",
       "2006-05-31    -0.030917    -0.037663        -0.043672   \n",
       "2006-06-30     0.000087    -0.011209        -0.002108   \n",
       "\n",
       "            FTSE_TMX_UNIV_BOND_IDX_LEVEL  FTSE_TMX_CORP_BOND_IDX_LEVEL  \n",
       "Date                                                                    \n",
       "2006-02-28                      0.005419                      0.004150  \n",
       "2006-03-31                     -0.003451                     -0.001989  \n",
       "2006-04-30                     -0.009366                     -0.007067  \n",
       "2006-05-31                      0.003712                      0.003794  \n",
       "2006-06-30                     -0.004577                     -0.004279  "
      ]
     },
     "execution_count": 8,
     "metadata": {},
     "output_type": "execute_result"
    }
   ],
   "source": [
    "rets = levels.pct_change().dropna()\n",
    "rets.head()"
   ]
  },
  {
   "cell_type": "markdown",
   "metadata": {},
   "source": [
    "### Expected Returns using `annualize_rets()` from case_study_functions"
   ]
  },
  {
   "cell_type": "markdown",
   "metadata": {},
   "source": [
    "NOTE: To estimate the expected return for each asset, I have chosen to take the annualized return based on the historic price levels that were provided in the case. I feel that it is an appropriate estimation, as 14 years of data (including two major recessions) should provide sufficient variation to help contextualize what an average year moving forward could look like. Although historical returns cannot predict future price movements, I believe it is more than adequate in this case."
   ]
  },
  {
   "cell_type": "markdown",
   "metadata": {},
   "source": [
    "Input returns and number of periods per year:"
   ]
  },
  {
   "cell_type": "code",
   "execution_count": 9,
   "metadata": {},
   "outputs": [
    {
     "data": {
      "text/plain": [
       "SP500_LEVEL                     0.071412\n",
       "SPTSX_LEVEL                     0.022457\n",
       "MSCI_EAFE_LEVEL                 0.004746\n",
       "FTSE_TMX_UNIV_BOND_IDX_LEVEL    0.048628\n",
       "FTSE_TMX_CORP_BOND_IDX_LEVEL    0.053566\n",
       "dtype: float64"
      ]
     },
     "execution_count": 9,
     "metadata": {},
     "output_type": "execute_result"
    }
   ],
   "source": [
    "exp_rets = csf.annualize_rets(rets, 12)\n",
    "exp_rets"
   ]
  },
  {
   "cell_type": "markdown",
   "metadata": {},
   "source": [
    "### Covariance of index returns"
   ]
  },
  {
   "cell_type": "markdown",
   "metadata": {},
   "source": [
    "NOTE: The cell below calculates the covariance matrix using the `cov()` function."
   ]
  },
  {
   "cell_type": "code",
   "execution_count": 10,
   "metadata": {},
   "outputs": [
    {
     "data": {
      "text/html": [
       "<div>\n",
       "<style scoped>\n",
       "    .dataframe tbody tr th:only-of-type {\n",
       "        vertical-align: middle;\n",
       "    }\n",
       "\n",
       "    .dataframe tbody tr th {\n",
       "        vertical-align: top;\n",
       "    }\n",
       "\n",
       "    .dataframe thead th {\n",
       "        text-align: right;\n",
       "    }\n",
       "</style>\n",
       "<table border=\"1\" class=\"dataframe\">\n",
       "  <thead>\n",
       "    <tr style=\"text-align: right;\">\n",
       "      <th></th>\n",
       "      <th>SP500_LEVEL</th>\n",
       "      <th>SPTSX_LEVEL</th>\n",
       "      <th>MSCI_EAFE_LEVEL</th>\n",
       "      <th>FTSE_TMX_UNIV_BOND_IDX_LEVEL</th>\n",
       "      <th>FTSE_TMX_CORP_BOND_IDX_LEVEL</th>\n",
       "    </tr>\n",
       "  </thead>\n",
       "  <tbody>\n",
       "    <tr>\n",
       "      <th>SP500_LEVEL</th>\n",
       "      <td>0.001876</td>\n",
       "      <td>0.001354</td>\n",
       "      <td>0.001894</td>\n",
       "      <td>-0.000005</td>\n",
       "      <td>0.000103</td>\n",
       "    </tr>\n",
       "    <tr>\n",
       "      <th>SPTSX_LEVEL</th>\n",
       "      <td>0.001354</td>\n",
       "      <td>0.001507</td>\n",
       "      <td>0.001493</td>\n",
       "      <td>0.000036</td>\n",
       "      <td>0.000147</td>\n",
       "    </tr>\n",
       "    <tr>\n",
       "      <th>MSCI_EAFE_LEVEL</th>\n",
       "      <td>0.001894</td>\n",
       "      <td>0.001493</td>\n",
       "      <td>0.002445</td>\n",
       "      <td>0.000005</td>\n",
       "      <td>0.000127</td>\n",
       "    </tr>\n",
       "    <tr>\n",
       "      <th>FTSE_TMX_UNIV_BOND_IDX_LEVEL</th>\n",
       "      <td>-0.000005</td>\n",
       "      <td>0.000036</td>\n",
       "      <td>0.000005</td>\n",
       "      <td>0.000117</td>\n",
       "      <td>0.000100</td>\n",
       "    </tr>\n",
       "    <tr>\n",
       "      <th>FTSE_TMX_CORP_BOND_IDX_LEVEL</th>\n",
       "      <td>0.000103</td>\n",
       "      <td>0.000147</td>\n",
       "      <td>0.000127</td>\n",
       "      <td>0.000100</td>\n",
       "      <td>0.000114</td>\n",
       "    </tr>\n",
       "  </tbody>\n",
       "</table>\n",
       "</div>"
      ],
      "text/plain": [
       "                              SP500_LEVEL  SPTSX_LEVEL  MSCI_EAFE_LEVEL  \\\n",
       "SP500_LEVEL                      0.001876     0.001354         0.001894   \n",
       "SPTSX_LEVEL                      0.001354     0.001507         0.001493   \n",
       "MSCI_EAFE_LEVEL                  0.001894     0.001493         0.002445   \n",
       "FTSE_TMX_UNIV_BOND_IDX_LEVEL    -0.000005     0.000036         0.000005   \n",
       "FTSE_TMX_CORP_BOND_IDX_LEVEL     0.000103     0.000147         0.000127   \n",
       "\n",
       "                              FTSE_TMX_UNIV_BOND_IDX_LEVEL  \\\n",
       "SP500_LEVEL                                      -0.000005   \n",
       "SPTSX_LEVEL                                       0.000036   \n",
       "MSCI_EAFE_LEVEL                                   0.000005   \n",
       "FTSE_TMX_UNIV_BOND_IDX_LEVEL                      0.000117   \n",
       "FTSE_TMX_CORP_BOND_IDX_LEVEL                      0.000100   \n",
       "\n",
       "                              FTSE_TMX_CORP_BOND_IDX_LEVEL  \n",
       "SP500_LEVEL                                       0.000103  \n",
       "SPTSX_LEVEL                                       0.000147  \n",
       "MSCI_EAFE_LEVEL                                   0.000127  \n",
       "FTSE_TMX_UNIV_BOND_IDX_LEVEL                      0.000100  \n",
       "FTSE_TMX_CORP_BOND_IDX_LEVEL                      0.000114  "
      ]
     },
     "execution_count": 10,
     "metadata": {},
     "output_type": "execute_result"
    }
   ],
   "source": [
    "cov = rets.cov()\n",
    "cov"
   ]
  },
  {
   "cell_type": "markdown",
   "metadata": {},
   "source": [
    "### Calculate risk-free rate"
   ]
  },
  {
   "cell_type": "markdown",
   "metadata": {},
   "source": [
    "NOTE: I have chosen to calculate the riskfree rate as an average of Canadian, American, and German 10Y Rates as of 2020-08. The reason I chose to include all three countries is because the market indices include Canadian, American, and Global securities. The reason I chose the most recent 10Y rates is because it is widely expected that long-term interest rates in all three countries will remain subdued for the next 2-3 years."
   ]
  },
  {
   "cell_type": "code",
   "execution_count": 11,
   "metadata": {},
   "outputs": [
    {
     "name": "stdout",
     "output_type": "stream",
     "text": [
      "The most recent 10Y Rates in Canada, US, and Germany are:\n",
      "CANADA_10Y_RATE     0.006220\n",
      "US_10Y_RATE         0.007048\n",
      "GERMANY_10Y_RATE   -0.003970\n",
      "Name: 2020-08-31, dtype: float64\n"
     ]
    }
   ],
   "source": [
    "int_rates_10Y = int_rates.loc['2020-08-31',['CANADA_10Y_RATE', 'US_10Y_RATE', 'GERMANY_10Y_RATE']]\n",
    "print('The most recent 10Y Rates in Canada, US, and Germany are:')\n",
    "print(int_rates_10Y)"
   ]
  },
  {
   "cell_type": "code",
   "execution_count": 12,
   "metadata": {},
   "outputs": [
    {
     "name": "stdout",
     "output_type": "stream",
     "text": [
      "The mean of the Canadian, American, and German 10Y rates is:\n",
      "0.0030993333333333324\n"
     ]
    }
   ],
   "source": [
    "rf = int_rates_10Y.mean()\n",
    "print('The mean of the Canadian, American, and German 10Y rates is:')\n",
    "print(rf)"
   ]
  },
  {
   "cell_type": "markdown",
   "metadata": {},
   "source": [
    "### Max Sharpe Portfolio Weights"
   ]
  },
  {
   "cell_type": "markdown",
   "metadata": {},
   "source": [
    "NOTE: In the cell below, the first line calculates the max sharpe ratio weights using the `msr()` function from `case_study_functions.py`. The following lines assign the corresponding tickers to their weights for readability."
   ]
  },
  {
   "cell_type": "markdown",
   "metadata": {},
   "source": [
    "Input riskfree rate, expected return, and covariance:"
   ]
  },
  {
   "cell_type": "code",
   "execution_count": 13,
   "metadata": {},
   "outputs": [
    {
     "name": "stdout",
     "output_type": "stream",
     "text": [
      "The Weights that Maximize the Expected Sharpe Ratio are:\n"
     ]
    },
    {
     "data": {
      "text/html": [
       "<div>\n",
       "<style scoped>\n",
       "    .dataframe tbody tr th:only-of-type {\n",
       "        vertical-align: middle;\n",
       "    }\n",
       "\n",
       "    .dataframe tbody tr th {\n",
       "        vertical-align: top;\n",
       "    }\n",
       "\n",
       "    .dataframe thead th {\n",
       "        text-align: right;\n",
       "    }\n",
       "</style>\n",
       "<table border=\"1\" class=\"dataframe\">\n",
       "  <thead>\n",
       "    <tr style=\"text-align: right;\">\n",
       "      <th></th>\n",
       "      <th>SP500</th>\n",
       "      <th>SPTSX</th>\n",
       "      <th>MSCI_EAFE</th>\n",
       "      <th>FTSE_TMX_UNIV_BOND_IDX</th>\n",
       "      <th>FTSE_TMX_CORP_BOND_IDX</th>\n",
       "    </tr>\n",
       "  </thead>\n",
       "  <tbody>\n",
       "    <tr>\n",
       "      <th>Sharpe Weights</th>\n",
       "      <td>0.040047</td>\n",
       "      <td>1.228479e-13</td>\n",
       "      <td>1.316379e-13</td>\n",
       "      <td>0.22659</td>\n",
       "      <td>0.733364</td>\n",
       "    </tr>\n",
       "  </tbody>\n",
       "</table>\n",
       "</div>"
      ],
      "text/plain": [
       "                   SP500         SPTSX     MSCI_EAFE  FTSE_TMX_UNIV_BOND_IDX  \\\n",
       "Sharpe Weights  0.040047  1.228479e-13  1.316379e-13                 0.22659   \n",
       "\n",
       "                FTSE_TMX_CORP_BOND_IDX  \n",
       "Sharpe Weights                0.733364  "
      ]
     },
     "execution_count": 13,
     "metadata": {},
     "output_type": "execute_result"
    }
   ],
   "source": [
    "sharpe_weights = csf.msr(rf, exp_rets, cov)\n",
    "\n",
    "tickers = ['SP500','SPTSX','MSCI_EAFE','FTSE_TMX_UNIV_BOND_IDX','FTSE_TMX_CORP_BOND_IDX']\n",
    "sharpe_weights_df = pd.DataFrame(sharpe_weights).T\n",
    "sharpe_weights_df.columns = ['SP500','SPTSX','MSCI_EAFE','FTSE_TMX_UNIV_BOND_IDX','FTSE_TMX_CORP_BOND_IDX']\n",
    "sharpe_weights_df.index = ['Sharpe Weights']\n",
    "\n",
    "print('The Weights that Maximize the Expected Sharpe Ratio are:')\n",
    "sharpe_weights_df"
   ]
  },
  {
   "cell_type": "markdown",
   "metadata": {},
   "source": [
    "### Max Sharpe Portfolio Return and Volatility"
   ]
  },
  {
   "cell_type": "markdown",
   "metadata": {},
   "source": [
    "NOTE: In the cell below, the first line calculates the portfolio return using the `portfolio_return()` function from `case_study_functions.py`, given the sharpe_weights and expected returns."
   ]
  },
  {
   "cell_type": "code",
   "execution_count": 24,
   "metadata": {},
   "outputs": [
    {
     "name": "stdout",
     "output_type": "stream",
     "text": [
      "The Expected Portfolio Return with Sharpe Weights is:\n",
      "0.05316193653507359\n"
     ]
    }
   ],
   "source": [
    "port_ret = csf.portfolio_return(sharpe_weights, exp_rets)\n",
    "\n",
    "print('The Expected Portfolio Return with Sharpe Weights is:')\n",
    "print(port_ret)"
   ]
  },
  {
   "cell_type": "markdown",
   "metadata": {},
   "source": [
    "NOTE: In the cell below, the first line calculates the portfolio volatility using the `portfolio_vol()` function from `case_study_functions.py`, given the sharpe_weights and covariance matrix."
   ]
  },
  {
   "cell_type": "code",
   "execution_count": 26,
   "metadata": {},
   "outputs": [
    {
     "name": "stdout",
     "output_type": "stream",
     "text": [
      "The Expected Portfolio Volatility with Sharpe Weights is:\n",
      "0.010473479732043685\n"
     ]
    }
   ],
   "source": [
    "port_vol = csf.portfolio_vol(sharpe_weights, cov)\n",
    "\n",
    "print('The Expected Portfolio Volatility with Sharpe Weights is:')\n",
    "print(port_vol)"
   ]
  },
  {
   "cell_type": "markdown",
   "metadata": {},
   "source": [
    "### Expected Sharpe Ratios for every asset class"
   ]
  },
  {
   "cell_type": "markdown",
   "metadata": {},
   "source": [
    "NOTE: The cells below calculate sharpe ratios for each asset using the `sharpe_ratio()` function from `case_study_functions.py`, given the returns, riskfree rate, and periods per year:"
   ]
  },
  {
   "cell_type": "code",
   "execution_count": 16,
   "metadata": {},
   "outputs": [
    {
     "name": "stdout",
     "output_type": "stream",
     "text": [
      "The Sharpe Ratios for each asset are:\n",
      "SP500_LEVEL                     0.453975\n",
      "SPTSX_LEVEL                     0.143540\n",
      "MSCI_EAFE_LEVEL                 0.009559\n",
      "FTSE_TMX_UNIV_BOND_IDX_LEVEL    1.213010\n",
      "FTSE_TMX_CORP_BOND_IDX_LEVEL    1.359631\n",
      "dtype: float64\n"
     ]
    }
   ],
   "source": [
    "sr_port = csf.sharpe_ratio(rets, rf, 12)\n",
    "\n",
    "print('The Sharpe Ratios for each asset are:')\n",
    "print(sr_port)"
   ]
  },
  {
   "cell_type": "markdown",
   "metadata": {},
   "source": [
    "### Optimal Weights and Global Minimum Variance Portfolio"
   ]
  },
  {
   "cell_type": "markdown",
   "metadata": {},
   "source": [
    "NOTE: The following code generates a list of weights to run the optimizer on to minimize the volatility using the `optimal_weights()` function from `case_study_functions.py`, given n_points, expected return, and covariance."
   ]
  },
  {
   "cell_type": "code",
   "execution_count": 18,
   "metadata": {},
   "outputs": [
    {
     "name": "stdout",
     "output_type": "stream",
     "text": [
      "Here is a list of 10 optimal weights:\n",
      "[array([0.00000000e+00, 2.71050543e-18, 1.00000000e+00, 4.94667241e-18,\n",
      "       1.98883336e-18]), array([0.00000000e+00, 1.11022302e-16, 8.31198503e-01, 1.68801497e-01,\n",
      "       3.26980644e-18]), array([0.00000000e+00, 0.00000000e+00, 6.62397005e-01, 3.37602995e-01,\n",
      "       3.53996245e-17]), array([0.00000000e+00, 6.93889390e-17, 4.93595508e-01, 5.06404492e-01,\n",
      "       0.00000000e+00]), array([0.00000000e+00, 6.41295039e-17, 3.24794011e-01, 6.75205989e-01,\n",
      "       3.05311332e-16]), array([0.00000000e+00, 6.61258882e-03, 1.52048792e-01, 8.41338619e-01,\n",
      "       2.49800181e-16]), array([0.00000000e+00, 2.77555756e-17, 3.83707085e-02, 5.06859126e-01,\n",
      "       4.54770166e-01]), array([1.69843240e-01, 0.00000000e+00, 5.31055777e-17, 3.98986399e-16,\n",
      "       8.30156760e-01]), array([5.84921619e-01, 1.23599048e-17, 8.94466792e-18, 1.38777878e-16,\n",
      "       4.15078381e-01]), array([1.00000000e+00, 0.00000000e+00, 4.10184175e-17, 0.00000000e+00,\n",
      "       9.87477418e-12])]\n"
     ]
    }
   ],
   "source": [
    "opt_weights = csf.optimal_weights(10, exp_rets, cov)\n",
    "print('Here is a list of 10 optimal weights:')\n",
    "print(opt_weights)"
   ]
  },
  {
   "cell_type": "markdown",
   "metadata": {},
   "source": [
    "NOTE: The following code calculates the global minimum variance portfolio (the portfolio with the lowest variance) using the `gmv()` function from `case_study_functions.py`, given the covariance matrix."
   ]
  },
  {
   "cell_type": "code",
   "execution_count": 19,
   "metadata": {},
   "outputs": [
    {
     "data": {
      "text/plain": [
       "array([3.64930152e-02, 5.77934309e-13, 1.13090127e-13, 5.71736525e-01,\n",
       "       3.91770460e-01])"
      ]
     },
     "execution_count": 19,
     "metadata": {},
     "output_type": "execute_result"
    }
   ],
   "source": [
    "csf.gmv(cov)"
   ]
  },
  {
   "cell_type": "markdown",
   "metadata": {},
   "source": [
    "### Efficient Frontier"
   ]
  },
  {
   "cell_type": "markdown",
   "metadata": {},
   "source": [
    "NOTE: The cell below calculates the portfolio volatility using the plot_ef() function from case_study_functions.py.\n",
    "Setting `show_cml=True` toggles the capital market line and tangency/sharpe portfolio (in green). Setting `show_ew=True` toggles the equally weighted portfolio (in orange). Setting `show_gmv=True` toggles the global minimum variance portfolio (in purple). "
   ]
  },
  {
   "cell_type": "code",
   "execution_count": 20,
   "metadata": {},
   "outputs": [
    {
     "data": {
      "text/plain": [
       "<AxesSubplot:xlabel='Volatility'>"
      ]
     },
     "execution_count": 20,
     "metadata": {},
     "output_type": "execute_result"
    },
    {
     "data": {
      "image/png": "[encoded data removed]",
      "text/plain": [
       "<Figure size 432x288 with 1 Axes>"
      ]
     },
     "metadata": {
      "needs_background": "light"
     },
     "output_type": "display_data"
    }
   ],
   "source": [
    "csf.plot_ef(25, exp_rets, cov, show_cml=True, show_ew=True, show_gmv=True)"
   ]
  },
  {
   "cell_type": "markdown",
   "metadata": {},
   "source": [
    "Thank you very much."
   ]
  }
 ],
 "metadata": {
  "kernelspec": {
   "display_name": "Python 3.7.6 64-bit ('base': conda)",
   "language": "python",
   "name": "python37664bitbasecondaf7fe52e1fe694f3d9c295261f14f1b2e"
  },
  "language_info": {
   "codemirror_mode": {
    "name": "ipython",
    "version": 3
   },
   "file_extension": ".py",
   "mimetype": "text/x-python",
   "name": "python",
   "nbconvert_exporter": "python",
   "pygments_lexer": "ipython3",
   "version": "3.7.6"
  }
 },
 "nbformat": 4,
 "nbformat_minor": 4
}
